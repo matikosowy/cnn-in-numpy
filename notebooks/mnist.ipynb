{
 "cells": [
  {
   "cell_type": "code",
   "id": "initial_id",
   "metadata": {
    "collapsed": true,
    "ExecuteTime": {
     "end_time": "2024-10-24T20:20:59.954128Z",
     "start_time": "2024-10-24T20:20:59.951601Z"
    }
   },
   "source": [
    "import pandas as pd\n",
    "import numpy as np\n",
    "import modules as md\n",
    "import optim as opt"
   ],
   "outputs": [],
   "execution_count": 26
  },
  {
   "metadata": {
    "ExecuteTime": {
     "end_time": "2024-10-24T20:21:02.256587Z",
     "start_time": "2024-10-24T20:20:59.967095Z"
    }
   },
   "cell_type": "code",
   "source": "df = pd.read_csv('mnist/mnist_train.csv')",
   "id": "1b571d01b03aae2f",
   "outputs": [],
   "execution_count": 27
  },
  {
   "metadata": {
    "ExecuteTime": {
     "end_time": "2024-10-24T20:21:02.318608Z",
     "start_time": "2024-10-24T20:21:02.276768Z"
    }
   },
   "cell_type": "code",
   "source": "reduced_mnist = df[df['label'].isin([0, 1])]",
   "id": "57db2bd31d8f2bb6",
   "outputs": [],
   "execution_count": 28
  },
  {
   "metadata": {
    "ExecuteTime": {
     "end_time": "2024-10-24T20:21:02.390349Z",
     "start_time": "2024-10-24T20:21:02.336978Z"
    }
   },
   "cell_type": "code",
   "source": [
    "X_train = reduced_mnist.drop('label', axis=1).values / 255.0\n",
    "y_train = reduced_mnist['label'].values.astype(int)\n",
    "\n",
    "X_train = X_train[:1000]\n",
    "y_train = y_train[:1000]"
   ],
   "id": "f7a77132b49c1396",
   "outputs": [],
   "execution_count": 29
  },
  {
   "metadata": {
    "ExecuteTime": {
     "end_time": "2024-10-24T20:21:02.415247Z",
     "start_time": "2024-10-24T20:21:02.410912Z"
    }
   },
   "cell_type": "code",
   "source": "X_train.shape, y_train.shape",
   "id": "582f12a9168d8734",
   "outputs": [
    {
     "data": {
      "text/plain": [
       "((1000, 784), (1000,))"
      ]
     },
     "execution_count": 30,
     "metadata": {},
     "output_type": "execute_result"
    }
   ],
   "execution_count": 30
  },
  {
   "metadata": {
    "ExecuteTime": {
     "end_time": "2024-10-24T20:21:02.442317Z",
     "start_time": "2024-10-24T20:21:02.437574Z"
    }
   },
   "cell_type": "code",
   "source": [
    "X_train = X_train.reshape(-1, 1, 28, 28)\n",
    "X_train.shape"
   ],
   "id": "2c0a57102716dee",
   "outputs": [
    {
     "data": {
      "text/plain": [
       "(1000, 1, 28, 28)"
      ]
     },
     "execution_count": 31,
     "metadata": {},
     "output_type": "execute_result"
    }
   ],
   "execution_count": 31
  },
  {
   "metadata": {
    "ExecuteTime": {
     "end_time": "2024-10-24T20:21:02.472995Z",
     "start_time": "2024-10-24T20:21:02.467583Z"
    }
   },
   "cell_type": "code",
   "source": [
    "import torch\n",
    "from torch.utils.data import Dataset\n",
    "\n",
    "class MNISTDataset(Dataset):\n",
    "    def __init__(self, images, labels):\n",
    "        self.images = torch.tensor(images, dtype=torch.float32)\n",
    "        self.labels = torch.tensor(labels, dtype=torch.long)\n",
    "\n",
    "    def __len__(self):\n",
    "        return len(self.labels)\n",
    "\n",
    "    def __getitem__(self, idx):\n",
    "        return self.images[idx], self.labels[idx]\n",
    "\n",
    "# Create dataset\n",
    "mnist_dataset = MNISTDataset(X_train, y_train)"
   ],
   "id": "60ca1022c68ba64b",
   "outputs": [],
   "execution_count": 32
  },
  {
   "metadata": {
    "ExecuteTime": {
     "end_time": "2024-10-24T20:21:02.497901Z",
     "start_time": "2024-10-24T20:21:02.494246Z"
    }
   },
   "cell_type": "code",
   "source": [
    "from torch.utils.data import DataLoader\n",
    "\n",
    "batch_size = 4\n",
    "dataloader = DataLoader(mnist_dataset, batch_size=batch_size, shuffle=True)"
   ],
   "id": "338086f33645a3c",
   "outputs": [],
   "execution_count": 33
  },
  {
   "metadata": {
    "ExecuteTime": {
     "end_time": "2024-10-24T20:21:02.523383Z",
     "start_time": "2024-10-24T20:21:02.519746Z"
    }
   },
   "cell_type": "code",
   "source": [
    "model = [\n",
    "    md.Conv2d(1, 16, 3, 2, 'same'), # 28x28 -> 14x14\n",
    "    md.BatchNorm2d(16),\n",
    "    md.ReLU(),\n",
    "    md.Conv2d(16, 32, 3, 2, 'same'), # 14x14 -> 7x7\n",
    "    md.BatchNorm2d(32),\n",
    "    md.ReLU(),\n",
    "    md.Flatten(),\n",
    "    md.Linear(32 * 7 * 7, 2),\n",
    "    md.Sigmoid()\n",
    "]"
   ],
   "id": "6e49c6e162bfc3d2",
   "outputs": [],
   "execution_count": 34
  },
  {
   "metadata": {
    "ExecuteTime": {
     "end_time": "2024-10-24T20:21:02.549536Z",
     "start_time": "2024-10-24T20:21:02.545711Z"
    }
   },
   "cell_type": "code",
   "source": [
    "from optim import Adam, CrossEntropyLoss\n",
    "\n",
    "parameters = []\n",
    "for layer in model:\n",
    "    if hasattr(layer, 'weight'):\n",
    "        parameters.extend([layer.weight, layer.bias])\n",
    "\n",
    "optimizer = Adam(parameters, lr=1e-3)\n",
    "criterion = CrossEntropyLoss()"
   ],
   "id": "534cfc8cdd1ed299",
   "outputs": [],
   "execution_count": 35
  },
  {
   "metadata": {
    "ExecuteTime": {
     "end_time": "2024-10-24T20:21:36.378144Z",
     "start_time": "2024-10-24T20:21:02.574821Z"
    }
   },
   "cell_type": "code",
   "source": [
    "from optim import train_epoch\n",
    "\n",
    "num_epochs = 10\n",
    "for epoch in range(num_epochs):\n",
    "    total_loss = 0\n",
    "    for batch_images, batch_labels in dataloader:\n",
    "        avg_loss = train_epoch(model, optimizer, criterion, [(batch_images.numpy(), batch_labels.numpy())])\n",
    "        total_loss += avg_loss\n",
    "\n",
    "    print(f\"Epoch {epoch + 1}/{num_epochs}, Loss: {total_loss / len(dataloader):.4f}\")"
   ],
   "id": "d8a9e4cae2f86a8a",
   "outputs": [
    {
     "name": "stdout",
     "output_type": "stream",
     "text": [
      "Epoch 1/10, Loss: 0.0670\n",
      "Epoch 2/10, Loss: 0.0130\n",
      "Epoch 3/10, Loss: 0.0102\n",
      "Epoch 4/10, Loss: 0.0049\n",
      "Epoch 5/10, Loss: 0.0037\n",
      "Epoch 6/10, Loss: 0.0029\n",
      "Epoch 7/10, Loss: 0.0025\n",
      "Epoch 8/10, Loss: 0.0021\n",
      "Epoch 9/10, Loss: 0.0019\n",
      "Epoch 10/10, Loss: 0.0017\n"
     ]
    }
   ],
   "execution_count": 36
  }
 ],
 "metadata": {
  "kernelspec": {
   "display_name": "Python 3",
   "language": "python",
   "name": "python3"
  },
  "language_info": {
   "codemirror_mode": {
    "name": "ipython",
    "version": 2
   },
   "file_extension": ".py",
   "mimetype": "text/x-python",
   "name": "python",
   "nbconvert_exporter": "python",
   "pygments_lexer": "ipython2",
   "version": "2.7.6"
  }
 },
 "nbformat": 4,
 "nbformat_minor": 5
}
